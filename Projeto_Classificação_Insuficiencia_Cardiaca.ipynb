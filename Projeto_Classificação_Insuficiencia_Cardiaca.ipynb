{
 "cells": [
  {
   "cell_type": "markdown",
   "id": "7a5896ac",
   "metadata": {},
   "source": [
    "# Projeto: Determinação do Risco de Doença Cardiovascular\n",
    "\n",
    "\n",
    "\n",
    "## Utilização de classificadores para indicar o risco de morte por doença cardiovascular com base em fatores de alto risco.\n",
    "\n",
    "\n",
    "### Importação dos módulos utilizados nesse projeto:"
   ]
  },
  {
   "cell_type": "code",
   "execution_count": 1,
   "id": "2ecaa259",
   "metadata": {},
   "outputs": [],
   "source": [
    "import pandas as pd\n",
    "import seaborn as sns\n",
    "import numpy as np\n",
    "import matplotlib.pyplot as plt\n",
    "from sklearn import preprocessing\n",
    "import sklearn\n",
    "from sklearn.preprocessing import MinMaxScaler\n",
    "from sklearn.preprocessing import StandardScaler \n",
    "\n",
    "from imblearn.over_sampling import SMOTENC\n",
    "\n",
    "from sklearn.ensemble import RandomForestClassifier\n",
    "from sklearn.model_selection import train_test_split\n",
    "from sklearn.metrics import accuracy_score\n",
    "from scipy import stats\n",
    "from sklearn.model_selection import KFold\n",
    "\n",
    "from sklearn.metrics import confusion_matrix, ConfusionMatrixDisplay, classification_report\n",
    "import matplotlib.pyplot as plt\n",
    "from sklearn.metrics import recall_score\n",
    "from sklearn.metrics import precision_score, plot_roc_curve\n",
    "from sklearn.metrics import f1_score\n",
    "from sklearn.neural_network import MLPClassifier\n",
    "from sklearn.neighbors import KNeighborsClassifier\n",
    "from sklearn import svm "
   ]
  },
  {
   "cell_type": "markdown",
   "id": "064c86f2",
   "metadata": {},
   "source": [
    "### Dataset encontrado na plataforma Kaggle:\n",
    "https://www.kaggle.com/andrewmvd/heart-failure-clinical-data"
   ]
  },
  {
   "cell_type": "markdown",
   "id": "aeedc980",
   "metadata": {},
   "source": [
    "## Leitura dos dados "
   ]
  },
  {
   "cell_type": "code",
   "execution_count": 2,
   "id": "7e065d72",
   "metadata": {},
   "outputs": [
    {
     "data": {
      "text/html": [
       "<div>\n",
       "<style scoped>\n",
       "    .dataframe tbody tr th:only-of-type {\n",
       "        vertical-align: middle;\n",
       "    }\n",
       "\n",
       "    .dataframe tbody tr th {\n",
       "        vertical-align: top;\n",
       "    }\n",
       "\n",
       "    .dataframe thead th {\n",
       "        text-align: right;\n",
       "    }\n",
       "</style>\n",
       "<table border=\"1\" class=\"dataframe\">\n",
       "  <thead>\n",
       "    <tr style=\"text-align: right;\">\n",
       "      <th></th>\n",
       "      <th>age</th>\n",
       "      <th>anaemia</th>\n",
       "      <th>creatinine_phosphokinase</th>\n",
       "      <th>diabetes</th>\n",
       "      <th>ejection_fraction</th>\n",
       "      <th>high_blood_pressure</th>\n",
       "      <th>platelets</th>\n",
       "      <th>serum_creatinine</th>\n",
       "      <th>serum_sodium</th>\n",
       "      <th>sex</th>\n",
       "      <th>smoking</th>\n",
       "      <th>time</th>\n",
       "      <th>DEATH_EVENT</th>\n",
       "    </tr>\n",
       "  </thead>\n",
       "  <tbody>\n",
       "    <tr>\n",
       "      <th>0</th>\n",
       "      <td>75.0</td>\n",
       "      <td>0</td>\n",
       "      <td>582</td>\n",
       "      <td>0</td>\n",
       "      <td>20</td>\n",
       "      <td>1</td>\n",
       "      <td>265000.00</td>\n",
       "      <td>1.9</td>\n",
       "      <td>130</td>\n",
       "      <td>1</td>\n",
       "      <td>0</td>\n",
       "      <td>4</td>\n",
       "      <td>1</td>\n",
       "    </tr>\n",
       "    <tr>\n",
       "      <th>1</th>\n",
       "      <td>55.0</td>\n",
       "      <td>0</td>\n",
       "      <td>7861</td>\n",
       "      <td>0</td>\n",
       "      <td>38</td>\n",
       "      <td>0</td>\n",
       "      <td>263358.03</td>\n",
       "      <td>1.1</td>\n",
       "      <td>136</td>\n",
       "      <td>1</td>\n",
       "      <td>0</td>\n",
       "      <td>6</td>\n",
       "      <td>1</td>\n",
       "    </tr>\n",
       "    <tr>\n",
       "      <th>2</th>\n",
       "      <td>65.0</td>\n",
       "      <td>0</td>\n",
       "      <td>146</td>\n",
       "      <td>0</td>\n",
       "      <td>20</td>\n",
       "      <td>0</td>\n",
       "      <td>162000.00</td>\n",
       "      <td>1.3</td>\n",
       "      <td>129</td>\n",
       "      <td>1</td>\n",
       "      <td>1</td>\n",
       "      <td>7</td>\n",
       "      <td>1</td>\n",
       "    </tr>\n",
       "    <tr>\n",
       "      <th>3</th>\n",
       "      <td>50.0</td>\n",
       "      <td>1</td>\n",
       "      <td>111</td>\n",
       "      <td>0</td>\n",
       "      <td>20</td>\n",
       "      <td>0</td>\n",
       "      <td>210000.00</td>\n",
       "      <td>1.9</td>\n",
       "      <td>137</td>\n",
       "      <td>1</td>\n",
       "      <td>0</td>\n",
       "      <td>7</td>\n",
       "      <td>1</td>\n",
       "    </tr>\n",
       "    <tr>\n",
       "      <th>4</th>\n",
       "      <td>65.0</td>\n",
       "      <td>1</td>\n",
       "      <td>160</td>\n",
       "      <td>1</td>\n",
       "      <td>20</td>\n",
       "      <td>0</td>\n",
       "      <td>327000.00</td>\n",
       "      <td>2.7</td>\n",
       "      <td>116</td>\n",
       "      <td>0</td>\n",
       "      <td>0</td>\n",
       "      <td>8</td>\n",
       "      <td>1</td>\n",
       "    </tr>\n",
       "  </tbody>\n",
       "</table>\n",
       "</div>"
      ],
      "text/plain": [
       "    age  anaemia  creatinine_phosphokinase  diabetes  ejection_fraction  \\\n",
       "0  75.0        0                       582         0                 20   \n",
       "1  55.0        0                      7861         0                 38   \n",
       "2  65.0        0                       146         0                 20   \n",
       "3  50.0        1                       111         0                 20   \n",
       "4  65.0        1                       160         1                 20   \n",
       "\n",
       "   high_blood_pressure  platelets  serum_creatinine  serum_sodium  sex  \\\n",
       "0                    1  265000.00               1.9           130    1   \n",
       "1                    0  263358.03               1.1           136    1   \n",
       "2                    0  162000.00               1.3           129    1   \n",
       "3                    0  210000.00               1.9           137    1   \n",
       "4                    0  327000.00               2.7           116    0   \n",
       "\n",
       "   smoking  time  DEATH_EVENT  \n",
       "0        0     4            1  \n",
       "1        0     6            1  \n",
       "2        1     7            1  \n",
       "3        0     7            1  \n",
       "4        0     8            1  "
      ]
     },
     "execution_count": 2,
     "metadata": {},
     "output_type": "execute_result"
    }
   ],
   "source": [
    "df = pd.read_csv('heart_failure_clinical_records_dataset.csv')\n",
    "df.head()"
   ]
  },
  {
   "cell_type": "markdown",
   "id": "1e15f07b",
   "metadata": {},
   "source": [
    "## Análise da correlação entre as variáveis da base de dados"
   ]
  },
  {
   "cell_type": "code",
   "execution_count": 3,
   "id": "ab9b83b7",
   "metadata": {
    "scrolled": true
   },
   "outputs": [
    {
     "data": {
      "text/plain": [
       "<AxesSubplot:>"
      ]
     },
     "execution_count": 3,
     "metadata": {},
     "output_type": "execute_result"
    },
    {
     "data": {
      "image/png": "[encoded data removed]",
      "text/plain": [
       "<Figure size 1080x360 with 2 Axes>"
      ]
     },
     "metadata": {
      "needs_background": "light"
     },
     "output_type": "display_data"
    }
   ],
   "source": [
    "plt.figure(figsize=(15,5))\n",
    "sns.heatmap(df.corr(), annot=True)"
   ]
  },
  {
   "cell_type": "markdown",
   "id": "c0c25e2d",
   "metadata": {},
   "source": [
    "As colunas \"diabetes\" e \"sex\" apresentam baixa correlação com morte por doenças do coração (DEATH_EVENT). Além disso, \"sex\" e \"smoking\" apresentam uma alta correlação entre elas. Dessa forma, as características \"diabetes\" e \"sex\" foram removidas do dataframe visando a melhoria do modelo."
   ]
  },
  {
   "cell_type": "markdown",
   "id": "d88776ae",
   "metadata": {},
   "source": [
    "## Limpeza e balanceamento dos dados\n",
    "\n",
    "Para melhorar a qualidade dos dados, será realizada uma análise sobre os dados para observar a existêcia de valores nulos, valores vazios ou de amostras duplicadas."
   ]
  },
  {
   "cell_type": "code",
   "execution_count": 4,
   "id": "63b36dc2",
   "metadata": {},
   "outputs": [
    {
     "data": {
      "text/html": [
       "<div>\n",
       "<style scoped>\n",
       "    .dataframe tbody tr th:only-of-type {\n",
       "        vertical-align: middle;\n",
       "    }\n",
       "\n",
       "    .dataframe tbody tr th {\n",
       "        vertical-align: top;\n",
       "    }\n",
       "\n",
       "    .dataframe thead th {\n",
       "        text-align: right;\n",
       "    }\n",
       "</style>\n",
       "<table border=\"1\" class=\"dataframe\">\n",
       "  <thead>\n",
       "    <tr style=\"text-align: right;\">\n",
       "      <th></th>\n",
       "      <th>age</th>\n",
       "      <th>anaemia</th>\n",
       "      <th>creatinine_phosphokinase</th>\n",
       "      <th>diabetes</th>\n",
       "      <th>ejection_fraction</th>\n",
       "      <th>high_blood_pressure</th>\n",
       "      <th>platelets</th>\n",
       "      <th>serum_creatinine</th>\n",
       "      <th>serum_sodium</th>\n",
       "      <th>sex</th>\n",
       "      <th>smoking</th>\n",
       "      <th>time</th>\n",
       "      <th>DEATH_EVENT</th>\n",
       "    </tr>\n",
       "  </thead>\n",
       "  <tbody>\n",
       "    <tr>\n",
       "      <th>0</th>\n",
       "      <td>False</td>\n",
       "      <td>False</td>\n",
       "      <td>False</td>\n",
       "      <td>False</td>\n",
       "      <td>False</td>\n",
       "      <td>False</td>\n",
       "      <td>False</td>\n",
       "      <td>False</td>\n",
       "      <td>False</td>\n",
       "      <td>False</td>\n",
       "      <td>False</td>\n",
       "      <td>False</td>\n",
       "      <td>False</td>\n",
       "    </tr>\n",
       "    <tr>\n",
       "      <th>1</th>\n",
       "      <td>False</td>\n",
       "      <td>False</td>\n",
       "      <td>False</td>\n",
       "      <td>False</td>\n",
       "      <td>False</td>\n",
       "      <td>False</td>\n",
       "      <td>False</td>\n",
       "      <td>False</td>\n",
       "      <td>False</td>\n",
       "      <td>False</td>\n",
       "      <td>False</td>\n",
       "      <td>False</td>\n",
       "      <td>False</td>\n",
       "    </tr>\n",
       "    <tr>\n",
       "      <th>2</th>\n",
       "      <td>False</td>\n",
       "      <td>False</td>\n",
       "      <td>False</td>\n",
       "      <td>False</td>\n",
       "      <td>False</td>\n",
       "      <td>False</td>\n",
       "      <td>False</td>\n",
       "      <td>False</td>\n",
       "      <td>False</td>\n",
       "      <td>False</td>\n",
       "      <td>False</td>\n",
       "      <td>False</td>\n",
       "      <td>False</td>\n",
       "    </tr>\n",
       "    <tr>\n",
       "      <th>3</th>\n",
       "      <td>False</td>\n",
       "      <td>False</td>\n",
       "      <td>False</td>\n",
       "      <td>False</td>\n",
       "      <td>False</td>\n",
       "      <td>False</td>\n",
       "      <td>False</td>\n",
       "      <td>False</td>\n",
       "      <td>False</td>\n",
       "      <td>False</td>\n",
       "      <td>False</td>\n",
       "      <td>False</td>\n",
       "      <td>False</td>\n",
       "    </tr>\n",
       "    <tr>\n",
       "      <th>4</th>\n",
       "      <td>False</td>\n",
       "      <td>False</td>\n",
       "      <td>False</td>\n",
       "      <td>False</td>\n",
       "      <td>False</td>\n",
       "      <td>False</td>\n",
       "      <td>False</td>\n",
       "      <td>False</td>\n",
       "      <td>False</td>\n",
       "      <td>False</td>\n",
       "      <td>False</td>\n",
       "      <td>False</td>\n",
       "      <td>False</td>\n",
       "    </tr>\n",
       "  </tbody>\n",
       "</table>\n",
       "</div>"
      ],
      "text/plain": [
       "     age  anaemia  creatinine_phosphokinase  diabetes  ejection_fraction  \\\n",
       "0  False    False                     False     False              False   \n",
       "1  False    False                     False     False              False   \n",
       "2  False    False                     False     False              False   \n",
       "3  False    False                     False     False              False   \n",
       "4  False    False                     False     False              False   \n",
       "\n",
       "   high_blood_pressure  platelets  serum_creatinine  serum_sodium    sex  \\\n",
       "0                False      False             False         False  False   \n",
       "1                False      False             False         False  False   \n",
       "2                False      False             False         False  False   \n",
       "3                False      False             False         False  False   \n",
       "4                False      False             False         False  False   \n",
       "\n",
       "   smoking   time  DEATH_EVENT  \n",
       "0    False  False        False  \n",
       "1    False  False        False  \n",
       "2    False  False        False  \n",
       "3    False  False        False  \n",
       "4    False  False        False  "
      ]
     },
     "execution_count": 4,
     "metadata": {},
     "output_type": "execute_result"
    }
   ],
   "source": [
    "df.isnull().head()"
   ]
  },
  {
   "cell_type": "code",
   "execution_count": 5,
   "id": "a790f01b",
   "metadata": {},
   "outputs": [
    {
     "data": {
      "text/plain": [
       "<AxesSubplot:>"
      ]
     },
     "execution_count": 5,
     "metadata": {},
     "output_type": "execute_result"
    },
    {
     "data": {
      "image/png": "[encoded data removed]",
      "text/plain": [
       "<Figure size 432x288 with 2 Axes>"
      ]
     },
     "metadata": {
      "needs_background": "light"
     },
     "output_type": "display_data"
    }
   ],
   "source": [
    "fig, (ax1, ax2) = plt.subplots(1, 2)\n",
    "sns.heatmap(df.isnull(),cbar=False,yticklabels=False, ax=ax1)\n",
    "\n",
    "sns.heatmap(df.isna(),cbar=False,yticklabels=False, ax=ax2)"
   ]
  },
  {
   "cell_type": "code",
   "execution_count": 6,
   "id": "fa46f08b",
   "metadata": {},
   "outputs": [
    {
     "name": "stdout",
     "output_type": "stream",
     "text": [
      "Total de amostras antes da limpeza: 299\n",
      "Total de amostras após a limpeza: 299\n"
     ]
    }
   ],
   "source": [
    "print(\"Total de amostras antes da limpeza:\", len(df))\n",
    "\n",
    "df.drop_duplicates(inplace=True)\n",
    "df.dropna(axis=0, how ='any')\n",
    "\n",
    "print(\"Total de amostras após a limpeza:\", len(df)) "
   ]
  },
  {
   "cell_type": "markdown",
   "id": "678e44f7",
   "metadata": {},
   "source": [
    "É possível perceber que foram realizados alguns procedimentos par a limpeza dos dados, porém os dados não apresentaram dados nulos ou dados duplicados."
   ]
  },
  {
   "cell_type": "markdown",
   "id": "43641fd1",
   "metadata": {},
   "source": [
    "## Normalização dos dados do dataset\n",
    "\n",
    "Considerando que existem dados com escala muito diferente, o que pode enviesar o processo de classificação, e que existem algumas variáveis categóricas, com valores 0 ou 1, foi realizada a aplicação de um método para normalizar os dados.\n",
    "\n",
    "Foi considerado o método Min-max para normalizar os dados para a escala de \\[0  1\\].\n"
   ]
  },
  {
   "cell_type": "code",
   "execution_count": 7,
   "id": "c3abce4a",
   "metadata": {},
   "outputs": [
    {
     "data": {
      "text/html": [
       "<div>\n",
       "<style scoped>\n",
       "    .dataframe tbody tr th:only-of-type {\n",
       "        vertical-align: middle;\n",
       "    }\n",
       "\n",
       "    .dataframe tbody tr th {\n",
       "        vertical-align: top;\n",
       "    }\n",
       "\n",
       "    .dataframe thead th {\n",
       "        text-align: right;\n",
       "    }\n",
       "</style>\n",
       "<table border=\"1\" class=\"dataframe\">\n",
       "  <thead>\n",
       "    <tr style=\"text-align: right;\">\n",
       "      <th></th>\n",
       "      <th>age</th>\n",
       "      <th>anaemia</th>\n",
       "      <th>creatinine_phosphokinase</th>\n",
       "      <th>diabetes</th>\n",
       "      <th>ejection_fraction</th>\n",
       "      <th>high_blood_pressure</th>\n",
       "      <th>platelets</th>\n",
       "      <th>serum_creatinine</th>\n",
       "      <th>serum_sodium</th>\n",
       "      <th>sex</th>\n",
       "      <th>smoking</th>\n",
       "      <th>time</th>\n",
       "    </tr>\n",
       "  </thead>\n",
       "  <tbody>\n",
       "    <tr>\n",
       "      <th>0</th>\n",
       "      <td>0.636364</td>\n",
       "      <td>0</td>\n",
       "      <td>0.071319</td>\n",
       "      <td>0</td>\n",
       "      <td>0.090909</td>\n",
       "      <td>1</td>\n",
       "      <td>0.290823</td>\n",
       "      <td>0.157303</td>\n",
       "      <td>0.485714</td>\n",
       "      <td>1</td>\n",
       "      <td>0</td>\n",
       "      <td>0.000000</td>\n",
       "    </tr>\n",
       "    <tr>\n",
       "      <th>1</th>\n",
       "      <td>0.272727</td>\n",
       "      <td>0</td>\n",
       "      <td>1.000000</td>\n",
       "      <td>0</td>\n",
       "      <td>0.363636</td>\n",
       "      <td>0</td>\n",
       "      <td>0.288833</td>\n",
       "      <td>0.067416</td>\n",
       "      <td>0.657143</td>\n",
       "      <td>1</td>\n",
       "      <td>0</td>\n",
       "      <td>0.007117</td>\n",
       "    </tr>\n",
       "    <tr>\n",
       "      <th>2</th>\n",
       "      <td>0.454545</td>\n",
       "      <td>0</td>\n",
       "      <td>0.015693</td>\n",
       "      <td>0</td>\n",
       "      <td>0.090909</td>\n",
       "      <td>0</td>\n",
       "      <td>0.165960</td>\n",
       "      <td>0.089888</td>\n",
       "      <td>0.457143</td>\n",
       "      <td>1</td>\n",
       "      <td>1</td>\n",
       "      <td>0.010676</td>\n",
       "    </tr>\n",
       "    <tr>\n",
       "      <th>3</th>\n",
       "      <td>0.181818</td>\n",
       "      <td>1</td>\n",
       "      <td>0.011227</td>\n",
       "      <td>0</td>\n",
       "      <td>0.090909</td>\n",
       "      <td>0</td>\n",
       "      <td>0.224148</td>\n",
       "      <td>0.157303</td>\n",
       "      <td>0.685714</td>\n",
       "      <td>1</td>\n",
       "      <td>0</td>\n",
       "      <td>0.010676</td>\n",
       "    </tr>\n",
       "    <tr>\n",
       "      <th>4</th>\n",
       "      <td>0.454545</td>\n",
       "      <td>1</td>\n",
       "      <td>0.017479</td>\n",
       "      <td>1</td>\n",
       "      <td>0.090909</td>\n",
       "      <td>0</td>\n",
       "      <td>0.365984</td>\n",
       "      <td>0.247191</td>\n",
       "      <td>0.085714</td>\n",
       "      <td>0</td>\n",
       "      <td>0</td>\n",
       "      <td>0.014235</td>\n",
       "    </tr>\n",
       "  </tbody>\n",
       "</table>\n",
       "</div>"
      ],
      "text/plain": [
       "        age  anaemia  creatinine_phosphokinase  diabetes  ejection_fraction  \\\n",
       "0  0.636364        0                  0.071319         0           0.090909   \n",
       "1  0.272727        0                  1.000000         0           0.363636   \n",
       "2  0.454545        0                  0.015693         0           0.090909   \n",
       "3  0.181818        1                  0.011227         0           0.090909   \n",
       "4  0.454545        1                  0.017479         1           0.090909   \n",
       "\n",
       "   high_blood_pressure  platelets  serum_creatinine  serum_sodium  sex  \\\n",
       "0                    1   0.290823          0.157303      0.485714    1   \n",
       "1                    0   0.288833          0.067416      0.657143    1   \n",
       "2                    0   0.165960          0.089888      0.457143    1   \n",
       "3                    0   0.224148          0.157303      0.685714    1   \n",
       "4                    0   0.365984          0.247191      0.085714    0   \n",
       "\n",
       "   smoking      time  \n",
       "0        0  0.000000  \n",
       "1        0  0.007117  \n",
       "2        1  0.010676  \n",
       "3        0  0.010676  \n",
       "4        0  0.014235  "
      ]
     },
     "execution_count": 7,
     "metadata": {},
     "output_type": "execute_result"
    }
   ],
   "source": [
    "x = df.iloc[:, 0:12].copy()\n",
    "y = df['DEATH_EVENT'].copy()\n",
    "\n",
    "scaler = MinMaxScaler()\n",
    "\n",
    "x[['age', 'creatinine_phosphokinase', 'ejection_fraction', 'platelets', 'serum_creatinine', 'serum_sodium', 'time']] = scaler.fit_transform(x[['age', 'creatinine_phosphokinase', 'ejection_fraction', 'platelets', 'serum_creatinine', 'serum_sodium', 'time']])\n",
    "x.head()"
   ]
  },
  {
   "cell_type": "markdown",
   "id": "8e324813",
   "metadata": {},
   "source": [
    "Removendo as colunas \"sex\" e \"diabetes\" do dataframe, considerando a análise da correlação realizada anteriormente."
   ]
  },
  {
   "cell_type": "code",
   "execution_count": 8,
   "id": "111ec23c",
   "metadata": {
    "scrolled": true
   },
   "outputs": [],
   "source": [
    "del x['sex']\n",
    "del x['diabetes']"
   ]
  },
  {
   "cell_type": "markdown",
   "id": "6c10b974",
   "metadata": {},
   "source": [
    "## Removendo outliers\n",
    "\n",
    "Foi utilizado o cálculo do Z-Score para encontrar *outliers*. O Z-Score calcula o número de desvios padrão acima ou abaixo da média para uma amostra. Em outras palavras, é uma medida de dispersão que possibilita analisar se uma determinada amostra está muito distante da média, configurando-se como um *outlier*.\n",
    "\n",
    "Considerando uma Gaussiana, são considerados *outliers*, amostras com desvio padrão maior ou igual a 3. Dessa forma, foram remividos as amostras que correspondem a esse valor de desvio padrão."
   ]
  },
  {
   "cell_type": "code",
   "execution_count": 9,
   "id": "e42254d0",
   "metadata": {},
   "outputs": [],
   "source": [
    "z_score = np.abs(stats.zscore(x))\n",
    "location_of_outliers = np.where(z_score >= 3)\n",
    "x.drop(location_of_outliers[0], inplace = True)\n",
    "y.drop(location_of_outliers[0], inplace = True)"
   ]
  },
  {
   "cell_type": "code",
   "execution_count": 10,
   "id": "4ee3fc70",
   "metadata": {},
   "outputs": [
    {
     "data": {
      "text/plain": [
       "array([  1,   4,   9,  19,  28,  52,  52,  60,  64,  72, 103, 105, 109,\n",
       "       131, 134, 171, 199, 217, 228, 296], dtype=int64)"
      ]
     },
     "execution_count": 10,
     "metadata": {},
     "output_type": "execute_result"
    }
   ],
   "source": [
    "# Índice os dados removidos\n",
    "location_of_outliers[0]"
   ]
  },
  {
   "cell_type": "markdown",
   "id": "9f37c490",
   "metadata": {},
   "source": [
    "## Balanceamento dos dados baseados \n",
    "\n",
    "Considerando que a base de dados apresenta duas classes, é possível que exista um desbalanceamento dos dados, considerando mais amostras para uma das classes.\n",
    "\n",
    "Na base de dados utilizada nesse projeto, é possível perceber o desbalanceamento, consiedrando um maior número de amostras calasificadas com *DEATH_EVENT = 0*"
   ]
  },
  {
   "cell_type": "code",
   "execution_count": 11,
   "id": "6fbb1653",
   "metadata": {},
   "outputs": [
    {
     "name": "stdout",
     "output_type": "stream",
     "text": [
      "Total de óbitos:  86\n",
      "Total de não óbitos:  194\n"
     ]
    }
   ],
   "source": [
    "print('Total de óbitos: ', y.sum())\n",
    "print('Total de não óbitos: ', len(y) -sum(y) )"
   ]
  },
  {
   "cell_type": "markdown",
   "id": "c424e4f7",
   "metadata": {},
   "source": [
    "Foi utilizada a biblioteca **SMOTE** para equilibrar quantidade de amostras para determinadas classes. Ela cria dados sintéticos para as características numéricas e categóricas e torna o modelo mais baanceado."
   ]
  },
  {
   "cell_type": "code",
   "execution_count": 12,
   "id": "7e556622",
   "metadata": {},
   "outputs": [],
   "source": [
    "new_x, new_y = SMOTENC(categorical_features=[1,4,8], random_state=1, k_neighbors=3).fit_resample(x, y)"
   ]
  },
  {
   "cell_type": "markdown",
   "id": "23e58281",
   "metadata": {},
   "source": [
    "Dessa forma, é possível perceber que a base de dados se encontra balanceada:"
   ]
  },
  {
   "cell_type": "code",
   "execution_count": 13,
   "id": "92df8c98",
   "metadata": {},
   "outputs": [
    {
     "name": "stdout",
     "output_type": "stream",
     "text": [
      "Total de óbitos:  194\n",
      "Total de não óbitos:  194\n"
     ]
    }
   ],
   "source": [
    "print('Total de óbitos: ', new_y.sum())\n",
    "print('Total de não óbitos: ', len(new_y) -sum(new_y) )"
   ]
  },
  {
   "cell_type": "markdown",
   "id": "544d68ac",
   "metadata": {},
   "source": [
    "## Modelagem, treino e validação do classificador\n",
    "\n",
    "### Divisão dos dados de treino e dados de teste\n",
    "\n",
    "Após limpos e balanceados, os dados foram divididos com a proporção de 70% das amostras para treinamento e 30% para teste. Essa é uma proporção popularmente utilizada nas bibliografias sobre classificação."
   ]
  },
  {
   "cell_type": "code",
   "execution_count": 14,
   "id": "ad0b63f9",
   "metadata": {},
   "outputs": [],
   "source": [
    "x_train, x_test, y_train, y_test = train_test_split(new_x, new_y, test_size = 0.3, random_state = 1, shuffle=True)"
   ]
  },
  {
   "cell_type": "markdown",
   "id": "1125e4f8",
   "metadata": {},
   "source": [
    "### Definição do modelo do classificador Random Forest\n",
    "\n",
    "Foi modelado um classificador baseado no algoritmo de classificação Random Forest. Esse é um dos algoritmos mais utilizados devido a sua facilidade e desempenho na classificação."
   ]
  },
  {
   "cell_type": "code",
   "execution_count": 15,
   "id": "7beccf4e",
   "metadata": {},
   "outputs": [],
   "source": [
    "random_forest = RandomForestClassifier(max_depth=12, random_state=1, criterion='gini')"
   ]
  },
  {
   "cell_type": "markdown",
   "id": "b4d0dd10",
   "metadata": {},
   "source": [
    "### Validando o modelo com a estratégia K-fold\n",
    "\n",
    "Para validar o modelo definido anteriormente, foi implementado uma validação utilizando a estratégia K-Fold. O K-fold valida o grupo de modelo por meio de uma sequência de iterações, aplicando um subgrupo das amostras para treinamento e outra parte para teste (80% e 20%, respectivamente). Com isso, é possível analisar a acurácia média dessas iterações.\n",
    "\n",
    "Considerando um total de 10 *folds*, o algoritmo executou o planejamentos e testes por 10 vezes, obtendo a seguinte acurácia:"
   ]
  },
  {
   "cell_type": "code",
   "execution_count": 16,
   "id": "d612e921",
   "metadata": {},
   "outputs": [
    {
     "name": "stdout",
     "output_type": "stream",
     "text": [
      "Acurácia de cada fold — [0.8571428571428571, 0.8148148148148148, 0.9259259259259259, 0.8888888888888888, 0.8888888888888888, 0.9259259259259259, 0.9629629629629629, 0.8888888888888888, 0.9259259259259259, 0.8888888888888888]\n",
      "\n",
      "Acurácia média para k=10 : 89.68%\n"
     ]
    }
   ],
   "source": [
    "k=10\n",
    "kf = KFold(n_splits=k, random_state=None, shuffle=False)\n",
    "X_kf = x_train.copy()\n",
    "y_kf = y_train.copy()\n",
    "acc_score = []\n",
    "for train_index, test_index in kf.split(X_kf):#80% 20%\n",
    "    Xkf_train, Xkf_test = X_kf.iloc[train_index,:], X_kf.iloc[test_index,:]\n",
    "    y_kf_train = y_kf.iloc[train_index]\n",
    "    y_kf_test = y_kf.iloc[test_index]\n",
    "    random_forest.fit(Xkf_train, y_kf_train)\n",
    "    pred_values = random_forest.predict(Xkf_test)\n",
    "    acc = accuracy_score(pred_values , y_kf_test)\n",
    "    acc_score.append(acc)\n",
    "avg_acc_score = sum(acc_score)/k\n",
    "\n",
    "print('Acurácia de cada fold — {}'.format(acc_score))\n",
    "print()\n",
    "print(f'Acurácia média para k={k} : {avg_acc_score*100:.2f}%')"
   ]
  },
  {
   "cell_type": "markdown",
   "id": "886621a1",
   "metadata": {},
   "source": [
    "### Treinando o modelo\n",
    "\n",
    "Considerando o modelo validado no passo anterior, o mesmo foi treinado considerando as amostras reservadas para treino."
   ]
  },
  {
   "cell_type": "code",
   "execution_count": 17,
   "id": "0508727e",
   "metadata": {},
   "outputs": [
    {
     "data": {
      "text/plain": [
       "RandomForestClassifier(max_depth=12, random_state=1)"
      ]
     },
     "execution_count": 17,
     "metadata": {},
     "output_type": "execute_result"
    }
   ],
   "source": [
    "random_forest.fit(x_train, y_train)"
   ]
  },
  {
   "cell_type": "markdown",
   "id": "14917bda",
   "metadata": {},
   "source": [
    "## Testes e Avaliações\n",
    "\n",
    "### Testando o modelo\n",
    "\n",
    "Em seguida é realizada a predição com base no modelo. Ou seja, o modelo é submetido às amostras reservada para os testes."
   ]
  },
  {
   "cell_type": "code",
   "execution_count": 18,
   "id": "d764a924",
   "metadata": {},
   "outputs": [],
   "source": [
    "y_predicted = random_forest.predict(x_test)"
   ]
  },
  {
   "cell_type": "markdown",
   "id": "60fb1ed6",
   "metadata": {},
   "source": [
    "### Métricas de Avaliaçao\n",
    "\n",
    "A fim de avaliar o classificador modelado, foram consideradas algumas estratégias. Levando em consideração que se trata de uma aplicação médica, além da avaliação da acurácia, é importante avaliar se os testes apresentam muitos falsos negativos. Dessa forma, foi calculada uma matriz de confusão para avaliar a eficiência do classificador. "
   ]
  },
  {
   "cell_type": "code",
   "execution_count": 19,
   "id": "2bdbe2dc",
   "metadata": {},
   "outputs": [
    {
     "name": "stdout",
     "output_type": "stream",
     "text": [
      "Grund truth: EVENT_DEATH = TRUE 58\n",
      "Grund truth: EVENT_DEATH = FALSE 59\n"
     ]
    },
    {
     "data": {
      "text/plain": [
       "<AxesSubplot:>"
      ]
     },
     "execution_count": 19,
     "metadata": {},
     "output_type": "execute_result"
    },
    {
     "data": {
      "image/png": "[encoded data removed]",
      "text/plain": [
       "<Figure size 432x288 with 1 Axes>"
      ]
     },
     "metadata": {
      "needs_background": "light"
     },
     "output_type": "display_data"
    }
   ],
   "source": [
    "print('Grund truth: EVENT_DEATH = TRUE', sum(y_test)) # EVENT_DEATH = TRUE = 0\n",
    "print('Grund truth: EVENT_DEATH = FALSE', len(y_test)-sum(y_test)) # EVENT_DEATH = FALSE = 1\n",
    "\n",
    "cm = confusion_matrix(y_test, y_predicted, labels=random_forest.classes_)\n",
    "\n",
    "group_names = ['True Neg','False Pos','False Neg','True Pos']\n",
    "group_counts = ['{0:0.0f}'.format(value) for value in cm.flatten()]\n",
    "group_percentages = ['{0:.2%}'.format(value) for value in cm.flatten()/np.sum(cm)]\n",
    "labels = [f'{v1}\\n{v2}\\n{v3}' for v1, v2, v3 in zip(group_names,group_counts,group_percentages)]\n",
    "labels = np.asarray(labels).reshape(2,2)\n",
    "\n",
    "sns.heatmap(cm, annot=labels, fmt='', cmap='Blues', cbar=False)"
   ]
  },
  {
   "cell_type": "markdown",
   "id": "e42379ed",
   "metadata": {},
   "source": [
    "É possível perceber que, das 59 amostras de teste em que não ocorreu óbito, 54 foram classificadas corretamente (Verdadeiro Negativo) e 5 foram classificadas como óbito (Falso Positivo). Para as 58 amostras em que ocorreu óbito, 53 foram classificadas corretamente (Verdadeiro Positivo) e 5 classificadas incorretamente (Falso Negativo)."
   ]
  },
  {
   "cell_type": "code",
   "execution_count": 20,
   "id": "3772369a",
   "metadata": {},
   "outputs": [
    {
     "name": "stdout",
     "output_type": "stream",
     "text": [
      "Accuracy 91.45% \n",
      "Recall: 91.38%\n",
      "Precision: 91.38%\n",
      "F1-Score: 91.38%\n",
      "\n",
      "              precision    recall  f1-score   support\n",
      "\n",
      "    Death: F     0.9153    0.9153    0.9153        59\n",
      "    Death: T     0.9138    0.9138    0.9138        58\n",
      "\n",
      "    accuracy                         0.9145       117\n",
      "   macro avg     0.9145    0.9145    0.9145       117\n",
      "weighted avg     0.9145    0.9145    0.9145       117\n",
      "\n"
     ]
    }
   ],
   "source": [
    "Accuracy = accuracy_score(y_test, y_predicted)\n",
    "print(f\"Accuracy {Accuracy*100:.2f}% \")\n",
    "print(f'Recall: {recall_score(y_test, y_predicted)*100:.2f}%')\n",
    "print(f'Precision: {precision_score(y_test, y_predicted)*100:.2f}%')\n",
    "#print(f\"Eficiency: {((0.9153+0.9138)/2)*100:.2f}%\")\n",
    "print(f'F1-Score: {f1_score(y_test, y_predicted)*100:.2f}%')\n",
    "print()\n",
    "\n",
    "# Obtendo as métricas por meio do classification_report\n",
    "target_names = ['Death: F', 'Death: T']\n",
    "print(classification_report(y_test, y_predicted, target_names=target_names, digits = 4))\n",
    "\n",
    "#plot_roc_curve(random_forest, x_test.values, y_test) \n",
    "#plt.show()"
   ]
  },
  {
   "cell_type": "markdown",
   "id": "ff21616f",
   "metadata": {},
   "source": [
    "Analisando o relatório da classificação, é possível analisar algumas métricas para a avaliação do modelo. A acurácia, medida da quantidade de acertos em relação ao total de classificações, foi de 91,45%. A métrica de precisão, que indica a habilidade do modelo em realizar predições (Verdadeiro Positivo) corretamente, foi de 91,38%.\n",
    "\n",
    "Como o problema em questão se trata de uma classificação binária, o valor da métrica *recall* para a classe positiva (Death_Event = 1), equivale à **Sensibilidade**, enquanto o valor da métrica *recall* para a classe negativa (Death_Event = 0) equivale à **Especificidade**. \n",
    "\n",
    "Dessa forma, a Sensibilidade do modelo foi de 91,38%, indicando a capacidade do modelo classificar corretamente a classe de interesse (Death_Event = 1). Por outro lado, a Especificidade do modelo foi de 91,53%, indicando a capacidade do modelo em predizer corretamente a outra classe (Death_Event = 0).\n",
    "\n",
    "Finalmente, a métrica f1-score, uma média que contempla a informação da precisão do *recall*, foi de 91.38%.\n"
   ]
  },
  {
   "cell_type": "markdown",
   "id": "5a1f2f6a",
   "metadata": {},
   "source": [
    "# Testando outros classificadores\n",
    "\n",
    "De maneira mais simplificada, foram realizados alguns testes para avaliar a efetividade de outros classificadores clássicos. Foram considerados a rede neural MLP (*Multlayer Perceptron*), o classificador KNN (*K-Nearest Neighborhood*) e o classificador SVM (*Support Vector Machine*).\n",
    "\n",
    "Esses classificadores foram aplicados pois são importantes algoritmos de classificação, que para algumas aplicações, apresentam excelente desempenho."
   ]
  },
  {
   "cell_type": "markdown",
   "id": "86582237",
   "metadata": {},
   "source": [
    "### MLP Classifier"
   ]
  },
  {
   "cell_type": "code",
   "execution_count": 21,
   "id": "c6e187d5",
   "metadata": {},
   "outputs": [
    {
     "name": "stdout",
     "output_type": "stream",
     "text": [
      "Accuracy : 88.03%\n",
      "Recall: 86.21%\n",
      "Precision: 89.29%\n",
      "f1-score: 87.72%\n"
     ]
    },
    {
     "data": {
      "text/plain": [
       "<AxesSubplot:>"
      ]
     },
     "execution_count": 21,
     "metadata": {},
     "output_type": "execute_result"
    },
    {
     "data": {
      "image/png": "[encoded data removed]",
      "text/plain": [
       "<Figure size 432x288 with 1 Axes>"
      ]
     },
     "metadata": {
      "needs_background": "light"
     },
     "output_type": "display_data"
    }
   ],
   "source": [
    "#Definindo o modelo\n",
    "clf = MLPClassifier(random_state=1, max_iter=3000, hidden_layer_sizes=(1000,10),\n",
    "                    activation='relu', solver='adam')\n",
    "\n",
    "#Treinando o modelo\n",
    "clf.fit(x_train, y_train)\n",
    "\n",
    "#Testando o modelo\n",
    "y_predicted_mlp = clf.predict(x_test)\n",
    "accuracy_mlp = accuracy_score(y_test, y_predicted_mlp)\n",
    "\n",
    "print(f\"Accuracy : {accuracy_mlp*100:.2f}%\")\n",
    "print(f'Recall: {recall_score(y_test, y_predicted_mlp)*100:.2f}%')\n",
    "print(f'Precision: {precision_score(y_test, y_predicted_mlp)*100:.2f}%')\n",
    "print(f'f1-score: {f1_score(y_test, y_predicted_mlp)*100:.2f}%')\n",
    "\n",
    "# Cálculo da matriz de confusão\n",
    "cm = confusion_matrix(y_test, y_predicted_mlp, labels=clf.classes_)\n",
    "\n",
    "group_names = ['True Neg','False Pos','False Neg','True Pos']\n",
    "group_counts = ['{0:0.0f}'.format(value) for value in cm.flatten()]\n",
    "group_percentages = ['{0:.2%}'.format(value) for value in cm.flatten()/np.sum(cm)]\n",
    "labels = [f'{v1}\\n{v2}\\n{v3}' for v1, v2, v3 in zip(group_names,group_counts,group_percentages)]\n",
    "labels = np.asarray(labels).reshape(2,2)\n",
    "\n",
    "sns.heatmap(cm, annot=labels, fmt='', cmap='Blues', cbar=False)"
   ]
  },
  {
   "cell_type": "markdown",
   "id": "9f7a9f1d",
   "metadata": {},
   "source": [
    "### KNN classifier"
   ]
  },
  {
   "cell_type": "code",
   "execution_count": 22,
   "id": "279b362e",
   "metadata": {},
   "outputs": [
    {
     "name": "stdout",
     "output_type": "stream",
     "text": [
      "Accuracy : 82.05%\n",
      "Recall: 82.76%\n",
      "Precision: 81.36%\n",
      "f1-score: 82.05%\n"
     ]
    },
    {
     "data": {
      "text/plain": [
       "<AxesSubplot:>"
      ]
     },
     "execution_count": 22,
     "metadata": {},
     "output_type": "execute_result"
    },
    {
     "data": {
      "image/png": "[encoded data removed]",
      "text/plain": [
       "<Figure size 432x288 with 1 Axes>"
      ]
     },
     "metadata": {
      "needs_background": "light"
     },
     "output_type": "display_data"
    }
   ],
   "source": [
    "knn = KNeighborsClassifier(n_neighbors=4, algorithm='kd_tree',weights= 'distance')\n",
    "knn.fit(x_train.values,y_train)\n",
    "#Testes\n",
    "y_predicted_knn = knn.predict(x_test.values)\n",
    "\n",
    "accuracy_mlp = accuracy_score(y_test, y_predicted_knn)\n",
    "print(f\"Accuracy : {accuracy_mlp*100:.2f}%\")\n",
    "print(f'Recall: {recall_score(y_test, y_predicted_knn)*100:.2f}%')\n",
    "print(f'Precision: {precision_score(y_test, y_predicted_knn)*100:.2f}%')\n",
    "print(f'f1-score: {f1_score(y_test, y_predicted_knn)*100:.2f}%')\n",
    "\n",
    "# Cálculo da matriz de confusão\n",
    "cm = confusion_matrix(y_test, y_predicted_knn, labels=knn.classes_)\n",
    "\n",
    "group_names = ['True Neg','False Pos','False Neg','True Pos']\n",
    "group_counts = ['{0:0.0f}'.format(value) for value in cm.flatten()]\n",
    "group_percentages = ['{0:.2%}'.format(value) for value in cm.flatten()/np.sum(cm)]\n",
    "labels = [f'{v1}\\n{v2}\\n{v3}' for v1, v2, v3 in zip(group_names,group_counts,group_percentages)]\n",
    "labels = np.asarray(labels).reshape(2,2)\n",
    "\n",
    "sns.heatmap(cm, annot=labels, fmt='', cmap='Blues', cbar=False)"
   ]
  },
  {
   "cell_type": "markdown",
   "id": "1b5d4ff1",
   "metadata": {},
   "source": [
    "### SVM Classifier"
   ]
  },
  {
   "cell_type": "code",
   "execution_count": 23,
   "id": "b0b77764",
   "metadata": {},
   "outputs": [
    {
     "name": "stdout",
     "output_type": "stream",
     "text": [
      "Accuracy : 82.05%\n",
      "Recall: 82.76%\n",
      "Precision: 81.36%\n",
      "f1-score: 82.05%\n"
     ]
    },
    {
     "data": {
      "text/plain": [
       "<AxesSubplot:>"
      ]
     },
     "execution_count": 23,
     "metadata": {},
     "output_type": "execute_result"
    },
    {
     "data": {
      "image/png": "[encoded data removed]",
      "text/plain": [
       "<Figure size 432x288 with 1 Axes>"
      ]
     },
     "metadata": {
      "needs_background": "light"
     },
     "output_type": "display_data"
    }
   ],
   "source": [
    "svm_model = svm.SVC(random_state=1, gamma='scale', kernel='rbf')\n",
    "#treino\n",
    "svm_model.fit(x_train, y_train)\n",
    "y_predicted_svm = svm_model.predict(x_test)\n",
    "\n",
    "accuracy_svm = accuracy_score(y_test, y_predicted_svm)\n",
    "\n",
    "print(f\"Accuracy : {accuracy_svm*100:.2f}%\")\n",
    "print(f'Recall: {recall_score(y_test, y_predicted_svm)*100:.2f}%')\n",
    "print(f'Precision: {precision_score(y_test, y_predicted_svm)*100:.2f}%')\n",
    "print(f'f1-score: {f1_score(y_test, y_predicted_svm)*100:.2f}%')\n",
    "\n",
    "# Cálculo da matriz de confusão\n",
    "cm = confusion_matrix(y_test, y_predicted_svm, labels=knn.classes_)\n",
    "\n",
    "group_names = ['True Neg','False Pos','False Neg','True Pos']\n",
    "group_counts = ['{0:0.0f}'.format(value) for value in cm.flatten()]\n",
    "group_percentages = ['{0:.2%}'.format(value) for value in cm.flatten()/np.sum(cm)]\n",
    "labels = [f'{v1}\\n{v2}\\n{v3}' for v1, v2, v3 in zip(group_names,group_counts,group_percentages)]\n",
    "labels = np.asarray(labels).reshape(2,2)\n",
    "\n",
    "sns.heatmap(cm, annot=labels, fmt='', cmap='Blues', cbar=False)"
   ]
  },
  {
   "cell_type": "markdown",
   "id": "b6865fa3",
   "metadata": {},
   "source": [
    "Finalmente, é possível perceber que o algoritmo Random Forest obteve o melhor desempenho em relação aos demais algoritmos testados. "
   ]
  }
 ],
 "metadata": {
  "kernelspec": {
   "display_name": "Python 3 (ipykernel)",
   "language": "python",
   "name": "python3"
  },
  "language_info": {
   "codemirror_mode": {
    "name": "ipython",
    "version": 3
   },
   "file_extension": ".py",
   "mimetype": "text/x-python",
   "name": "python",
   "nbconvert_exporter": "python",
   "pygments_lexer": "ipython3",
   "version": "3.8.11"
  }
 },
 "nbformat": 4,
 "nbformat_minor": 5
}
