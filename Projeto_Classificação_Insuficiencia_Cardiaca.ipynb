{
 "cells": [
  {
   "cell_type": "markdown",
   "id": "7a5896ac",
   "metadata": {},
   "source": [
    "# Projeto: Determinação do Risco de Doença Cardiovascular\n",
    "\n",
    "## Utilização de classificadores para indicar o risco de morte por doença cardiovascular com base em fatores de alto risco.\n",
    "\n"
   ]
  },
  {
   "cell_type": "code",
   "execution_count": 1,
   "id": "2ecaa259",
   "metadata": {},
   "outputs": [],
   "source": [
    "import pandas as pd\n",
    "import seaborn as sns\n",
    "import numpy as np\n",
    "import matplotlib.pyplot as plt\n",
    "#import pandera as pa\n",
    "from sklearn import preprocessing\n",
    "import sklearn\n",
    "from sklearn.preprocessing import MinMaxScaler\n",
    "from sklearn.preprocessing import StandardScaler \n",
    "#from sklearn.decomposition import RandomizedPCA\n",
    "\n",
    "from imblearn.over_sampling import SMOTENC\n",
    "\n",
    "from sklearn.ensemble import RandomForestClassifier\n",
    "from sklearn.model_selection import train_test_split\n",
    "from sklearn.metrics import accuracy_score\n",
    "from scipy import stats\n",
    "from sklearn.model_selection import KFold\n",
    "\n",
    "from sklearn.metrics import confusion_matrix, ConfusionMatrixDisplay\n",
    "import matplotlib.pyplot as plt\n",
    "from sklearn.metrics import recall_score\n",
    "from sklearn.metrics import precision_score\n",
    "from sklearn.metrics import f1_score\n",
    "from sklearn.neural_network import MLPClassifier\n",
    "from sklearn.neighbors import KNeighborsClassifier\n",
    "from sklearn import svm "
   ]
  },
  {
   "cell_type": "raw",
   "id": "24582564",
   "metadata": {},
   "source": [
    "Dados obtidos em:\n",
    "https://www.kaggle.com/andrewmvd/heart-failure-clinical-data"
   ]
  },
  {
   "cell_type": "markdown",
   "id": "aeedc980",
   "metadata": {},
   "source": [
    "## Leitura dos dados "
   ]
  },
  {
   "cell_type": "code",
   "execution_count": 2,
   "id": "7e065d72",
   "metadata": {},
   "outputs": [
    {
     "data": {
      "text/html": [
       "<div>\n",
       "<style scoped>\n",
       "    .dataframe tbody tr th:only-of-type {\n",
       "        vertical-align: middle;\n",
       "    }\n",
       "\n",
       "    .dataframe tbody tr th {\n",
       "        vertical-align: top;\n",
       "    }\n",
       "\n",
       "    .dataframe thead th {\n",
       "        text-align: right;\n",
       "    }\n",
       "</style>\n",
       "<table border=\"1\" class=\"dataframe\">\n",
       "  <thead>\n",
       "    <tr style=\"text-align: right;\">\n",
       "      <th></th>\n",
       "      <th>age</th>\n",
       "      <th>anaemia</th>\n",
       "      <th>creatinine_phosphokinase</th>\n",
       "      <th>diabetes</th>\n",
       "      <th>ejection_fraction</th>\n",
       "      <th>high_blood_pressure</th>\n",
       "      <th>platelets</th>\n",
       "      <th>serum_creatinine</th>\n",
       "      <th>serum_sodium</th>\n",
       "      <th>sex</th>\n",
       "      <th>smoking</th>\n",
       "      <th>time</th>\n",
       "      <th>DEATH_EVENT</th>\n",
       "    </tr>\n",
       "  </thead>\n",
       "  <tbody>\n",
       "    <tr>\n",
       "      <th>0</th>\n",
       "      <td>75.0</td>\n",
       "      <td>0</td>\n",
       "      <td>582</td>\n",
       "      <td>0</td>\n",
       "      <td>20</td>\n",
       "      <td>1</td>\n",
       "      <td>265000.00</td>\n",
       "      <td>1.9</td>\n",
       "      <td>130</td>\n",
       "      <td>1</td>\n",
       "      <td>0</td>\n",
       "      <td>4</td>\n",
       "      <td>1</td>\n",
       "    </tr>\n",
       "    <tr>\n",
       "      <th>1</th>\n",
       "      <td>55.0</td>\n",
       "      <td>0</td>\n",
       "      <td>7861</td>\n",
       "      <td>0</td>\n",
       "      <td>38</td>\n",
       "      <td>0</td>\n",
       "      <td>263358.03</td>\n",
       "      <td>1.1</td>\n",
       "      <td>136</td>\n",
       "      <td>1</td>\n",
       "      <td>0</td>\n",
       "      <td>6</td>\n",
       "      <td>1</td>\n",
       "    </tr>\n",
       "    <tr>\n",
       "      <th>2</th>\n",
       "      <td>65.0</td>\n",
       "      <td>0</td>\n",
       "      <td>146</td>\n",
       "      <td>0</td>\n",
       "      <td>20</td>\n",
       "      <td>0</td>\n",
       "      <td>162000.00</td>\n",
       "      <td>1.3</td>\n",
       "      <td>129</td>\n",
       "      <td>1</td>\n",
       "      <td>1</td>\n",
       "      <td>7</td>\n",
       "      <td>1</td>\n",
       "    </tr>\n",
       "    <tr>\n",
       "      <th>3</th>\n",
       "      <td>50.0</td>\n",
       "      <td>1</td>\n",
       "      <td>111</td>\n",
       "      <td>0</td>\n",
       "      <td>20</td>\n",
       "      <td>0</td>\n",
       "      <td>210000.00</td>\n",
       "      <td>1.9</td>\n",
       "      <td>137</td>\n",
       "      <td>1</td>\n",
       "      <td>0</td>\n",
       "      <td>7</td>\n",
       "      <td>1</td>\n",
       "    </tr>\n",
       "    <tr>\n",
       "      <th>4</th>\n",
       "      <td>65.0</td>\n",
       "      <td>1</td>\n",
       "      <td>160</td>\n",
       "      <td>1</td>\n",
       "      <td>20</td>\n",
       "      <td>0</td>\n",
       "      <td>327000.00</td>\n",
       "      <td>2.7</td>\n",
       "      <td>116</td>\n",
       "      <td>0</td>\n",
       "      <td>0</td>\n",
       "      <td>8</td>\n",
       "      <td>1</td>\n",
       "    </tr>\n",
       "  </tbody>\n",
       "</table>\n",
       "</div>"
      ],
      "text/plain": [
       "    age  anaemia  creatinine_phosphokinase  diabetes  ejection_fraction  \\\n",
       "0  75.0        0                       582         0                 20   \n",
       "1  55.0        0                      7861         0                 38   \n",
       "2  65.0        0                       146         0                 20   \n",
       "3  50.0        1                       111         0                 20   \n",
       "4  65.0        1                       160         1                 20   \n",
       "\n",
       "   high_blood_pressure  platelets  serum_creatinine  serum_sodium  sex  \\\n",
       "0                    1  265000.00               1.9           130    1   \n",
       "1                    0  263358.03               1.1           136    1   \n",
       "2                    0  162000.00               1.3           129    1   \n",
       "3                    0  210000.00               1.9           137    1   \n",
       "4                    0  327000.00               2.7           116    0   \n",
       "\n",
       "   smoking  time  DEATH_EVENT  \n",
       "0        0     4            1  \n",
       "1        0     6            1  \n",
       "2        1     7            1  \n",
       "3        0     7            1  \n",
       "4        0     8            1  "
      ]
     },
     "execution_count": 2,
     "metadata": {},
     "output_type": "execute_result"
    }
   ],
   "source": [
    "df = pd.read_csv('heart_failure_clinical_records_dataset.csv')#, sep=\";\", parse_dates=['ocorrencia_dia'], dayfirst=True)\n",
    "#df.where(df['DEATH_EVENT']==0).head()\n",
    "df.head()"
   ]
  },
  {
   "cell_type": "markdown",
   "id": "1e15f07b",
   "metadata": {},
   "source": [
    "## Análise da correlação entre as variáveis da base de dados"
   ]
  },
  {
   "cell_type": "code",
   "execution_count": 3,
   "id": "ab9b83b7",
   "metadata": {},
   "outputs": [
    {
     "data": {
      "text/plain": [
       "<AxesSubplot:>"
      ]
     },
     "execution_count": 3,
     "metadata": {},
     "output_type": "execute_result"
    },
    {
     "data": {
      "image/png": "[encoded data removed]",
      "text/plain": [
       "<Figure size 1080x360 with 2 Axes>"
      ]
     },
     "metadata": {
      "needs_background": "light"
     },
     "output_type": "display_data"
    }
   ],
   "source": [
    "plt.figure(figsize=(15,5))\n",
    "sns.heatmap(df.corr(), annot=True)"
   ]
  },
  {
   "cell_type": "raw",
   "id": "c2d6dfff",
   "metadata": {},
   "source": [
    "A coluna \"time\" corresponde ao tempo de tratamento. É possível observar que ela possui alta correlação negativa com DEATH_EVENT. Dessa forma ela será removida.\n",
    "\n",
    "As colunas  diabetes e sex não apresentam correlação com morte por doenças do coração.\n"
   ]
  },
  {
   "cell_type": "code",
   "execution_count": 4,
   "id": "a790f01b",
   "metadata": {},
   "outputs": [
    {
     "data": {
      "text/plain": [
       "<AxesSubplot:>"
      ]
     },
     "execution_count": 4,
     "metadata": {},
     "output_type": "execute_result"
    },
    {
     "data": {
      "image/png": "[encoded data removed]",
      "text/plain": [
       "<Figure size 432x288 with 1 Axes>"
      ]
     },
     "metadata": {
      "needs_background": "light"
     },
     "output_type": "display_data"
    }
   ],
   "source": [
    "sns.heatmap(df.isnull(),cbar=False,yticklabels=False)"
   ]
  },
  {
   "cell_type": "markdown",
   "id": "43641fd1",
   "metadata": {},
   "source": [
    "## Balanceando o dataset\n",
    "Utilizando Minimax para ajustar os dados, balanceando entre 0 e 1"
   ]
  },
  {
   "cell_type": "code",
   "execution_count": 5,
   "id": "c3abce4a",
   "metadata": {},
   "outputs": [],
   "source": [
    "x = df.iloc[:, 0:12].copy()\n",
    "y = df['DEATH_EVENT'].copy()\n",
    "\n",
    "scaler = MinMaxScaler()\n",
    "#scaler = StandardScaler()\n",
    "\n",
    "#pca = PCA(n_components=6)\n",
    "\n",
    "#%x[['age', 'creatinine_phosphokinase', 'ejection_fraction', 'platelets', 'serum_creatinine', 'serum_sodium']] = scaler.fit_transform(x[['age', 'creatinine_phosphokinase', 'ejection_fraction', 'platelets', 'serum_creatinine', 'serum_sodium']])\n",
    "x[['age', 'creatinine_phosphokinase', 'ejection_fraction', 'platelets', 'serum_creatinine', 'serum_sodium', 'time']] = scaler.fit_transform(x[['age', 'creatinine_phosphokinase', 'ejection_fraction', 'platelets', 'serum_creatinine', 'serum_sodium', 'time']])\n",
    "\n",
    "#sklearn.decomposition.RandomizedPCA\n",
    "#pca = RandomizedPCA(n_components=6)\n",
    "#x[['age', 'creatinine_phosphokinase', 'ejection_fraction', 'platelets', 'serum_creatinine', 'serum_sodium']] = pca.fit_transform(x[['age', 'creatinine_phosphokinase', 'ejection_fraction', 'platelets', 'serum_creatinine', 'serum_sodium']])\n",
    "\n",
    "del x['sex']\n",
    "del x['diabetes']\n",
    "#del x['age']\n"
   ]
  },
  {
   "cell_type": "markdown",
   "id": "6c10b974",
   "metadata": {},
   "source": [
    "## Removendo outliers\n",
    "Utilizando o z-score para encontrar outliers"
   ]
  },
  {
   "cell_type": "code",
   "execution_count": 6,
   "id": "e42254d0",
   "metadata": {},
   "outputs": [],
   "source": [
    "z_score = np.abs(stats.zscore(x))\n",
    "location_of_outliers = np.where(z_score > 3)\n",
    "x.drop(location_of_outliers[0], inplace = True)\n",
    "y.drop(location_of_outliers[0], inplace = True)"
   ]
  },
  {
   "cell_type": "code",
   "execution_count": 7,
   "id": "4ee3fc70",
   "metadata": {},
   "outputs": [
    {
     "data": {
      "text/html": [
       "<div>\n",
       "<style scoped>\n",
       "    .dataframe tbody tr th:only-of-type {\n",
       "        vertical-align: middle;\n",
       "    }\n",
       "\n",
       "    .dataframe tbody tr th {\n",
       "        vertical-align: top;\n",
       "    }\n",
       "\n",
       "    .dataframe thead th {\n",
       "        text-align: right;\n",
       "    }\n",
       "</style>\n",
       "<table border=\"1\" class=\"dataframe\">\n",
       "  <thead>\n",
       "    <tr style=\"text-align: right;\">\n",
       "      <th></th>\n",
       "      <th>age</th>\n",
       "      <th>anaemia</th>\n",
       "      <th>creatinine_phosphokinase</th>\n",
       "      <th>ejection_fraction</th>\n",
       "      <th>high_blood_pressure</th>\n",
       "      <th>platelets</th>\n",
       "      <th>serum_creatinine</th>\n",
       "      <th>serum_sodium</th>\n",
       "      <th>smoking</th>\n",
       "      <th>time</th>\n",
       "    </tr>\n",
       "  </thead>\n",
       "  <tbody>\n",
       "    <tr>\n",
       "      <th>0</th>\n",
       "      <td>1.192945</td>\n",
       "      <td>0.871105</td>\n",
       "      <td>0.000166</td>\n",
       "      <td>1.530560</td>\n",
       "      <td>1.359272</td>\n",
       "      <td>1.681648e-02</td>\n",
       "      <td>0.490057</td>\n",
       "      <td>1.504036</td>\n",
       "      <td>0.687682</td>\n",
       "      <td>1.629502</td>\n",
       "    </tr>\n",
       "    <tr>\n",
       "      <th>1</th>\n",
       "      <td>0.491279</td>\n",
       "      <td>0.871105</td>\n",
       "      <td>7.514640</td>\n",
       "      <td>0.007077</td>\n",
       "      <td>0.735688</td>\n",
       "      <td>7.535660e-09</td>\n",
       "      <td>0.284552</td>\n",
       "      <td>0.141976</td>\n",
       "      <td>0.687682</td>\n",
       "      <td>1.603691</td>\n",
       "    </tr>\n",
       "    <tr>\n",
       "      <th>2</th>\n",
       "      <td>0.350833</td>\n",
       "      <td>0.871105</td>\n",
       "      <td>0.449939</td>\n",
       "      <td>1.530560</td>\n",
       "      <td>0.735688</td>\n",
       "      <td>1.038073e+00</td>\n",
       "      <td>0.090900</td>\n",
       "      <td>1.731046</td>\n",
       "      <td>1.454161</td>\n",
       "      <td>1.590785</td>\n",
       "    </tr>\n",
       "    <tr>\n",
       "      <th>3</th>\n",
       "      <td>0.912335</td>\n",
       "      <td>1.147968</td>\n",
       "      <td>0.486071</td>\n",
       "      <td>1.530560</td>\n",
       "      <td>0.735688</td>\n",
       "      <td>5.464741e-01</td>\n",
       "      <td>0.490057</td>\n",
       "      <td>0.085034</td>\n",
       "      <td>0.687682</td>\n",
       "      <td>1.590785</td>\n",
       "    </tr>\n",
       "    <tr>\n",
       "      <th>4</th>\n",
       "      <td>0.350833</td>\n",
       "      <td>1.147968</td>\n",
       "      <td>0.435486</td>\n",
       "      <td>1.530560</td>\n",
       "      <td>0.735688</td>\n",
       "      <td>6.517986e-01</td>\n",
       "      <td>1.264666</td>\n",
       "      <td>4.682176</td>\n",
       "      <td>0.687682</td>\n",
       "      <td>1.577879</td>\n",
       "    </tr>\n",
       "    <tr>\n",
       "      <th>...</th>\n",
       "      <td>...</td>\n",
       "      <td>...</td>\n",
       "      <td>...</td>\n",
       "      <td>...</td>\n",
       "      <td>...</td>\n",
       "      <td>...</td>\n",
       "      <td>...</td>\n",
       "      <td>...</td>\n",
       "      <td>...</td>\n",
       "      <td>...</td>\n",
       "    </tr>\n",
       "    <tr>\n",
       "      <th>294</th>\n",
       "      <td>0.098199</td>\n",
       "      <td>0.871105</td>\n",
       "      <td>0.537688</td>\n",
       "      <td>0.007077</td>\n",
       "      <td>1.359272</td>\n",
       "      <td>1.109765e+00</td>\n",
       "      <td>0.284552</td>\n",
       "      <td>1.447094</td>\n",
       "      <td>1.454161</td>\n",
       "      <td>1.803451</td>\n",
       "    </tr>\n",
       "    <tr>\n",
       "      <th>295</th>\n",
       "      <td>0.491279</td>\n",
       "      <td>0.871105</td>\n",
       "      <td>1.278215</td>\n",
       "      <td>0.007077</td>\n",
       "      <td>0.735688</td>\n",
       "      <td>6.802472e-02</td>\n",
       "      <td>0.187726</td>\n",
       "      <td>0.539054</td>\n",
       "      <td>0.687682</td>\n",
       "      <td>1.816357</td>\n",
       "    </tr>\n",
       "    <tr>\n",
       "      <th>296</th>\n",
       "      <td>1.333392</td>\n",
       "      <td>0.871105</td>\n",
       "      <td>1.525979</td>\n",
       "      <td>1.854958</td>\n",
       "      <td>0.735688</td>\n",
       "      <td>4.902082e+00</td>\n",
       "      <td>0.575031</td>\n",
       "      <td>0.312044</td>\n",
       "      <td>0.687682</td>\n",
       "      <td>1.906697</td>\n",
       "    </tr>\n",
       "    <tr>\n",
       "      <th>297</th>\n",
       "      <td>1.333392</td>\n",
       "      <td>0.871105</td>\n",
       "      <td>1.890398</td>\n",
       "      <td>0.007077</td>\n",
       "      <td>0.735688</td>\n",
       "      <td>1.263389e+00</td>\n",
       "      <td>0.005926</td>\n",
       "      <td>0.766064</td>\n",
       "      <td>1.454161</td>\n",
       "      <td>1.932509</td>\n",
       "    </tr>\n",
       "    <tr>\n",
       "      <th>298</th>\n",
       "      <td>0.912335</td>\n",
       "      <td>0.871105</td>\n",
       "      <td>0.398321</td>\n",
       "      <td>0.585389</td>\n",
       "      <td>0.735688</td>\n",
       "      <td>1.348231e+00</td>\n",
       "      <td>0.199578</td>\n",
       "      <td>0.141976</td>\n",
       "      <td>1.454161</td>\n",
       "      <td>1.997038</td>\n",
       "    </tr>\n",
       "  </tbody>\n",
       "</table>\n",
       "<p>299 rows × 10 columns</p>\n",
       "</div>"
      ],
      "text/plain": [
       "          age   anaemia  creatinine_phosphokinase  ejection_fraction  \\\n",
       "0    1.192945  0.871105                  0.000166           1.530560   \n",
       "1    0.491279  0.871105                  7.514640           0.007077   \n",
       "2    0.350833  0.871105                  0.449939           1.530560   \n",
       "3    0.912335  1.147968                  0.486071           1.530560   \n",
       "4    0.350833  1.147968                  0.435486           1.530560   \n",
       "..        ...       ...                       ...                ...   \n",
       "294  0.098199  0.871105                  0.537688           0.007077   \n",
       "295  0.491279  0.871105                  1.278215           0.007077   \n",
       "296  1.333392  0.871105                  1.525979           1.854958   \n",
       "297  1.333392  0.871105                  1.890398           0.007077   \n",
       "298  0.912335  0.871105                  0.398321           0.585389   \n",
       "\n",
       "     high_blood_pressure     platelets  serum_creatinine  serum_sodium  \\\n",
       "0               1.359272  1.681648e-02          0.490057      1.504036   \n",
       "1               0.735688  7.535660e-09          0.284552      0.141976   \n",
       "2               0.735688  1.038073e+00          0.090900      1.731046   \n",
       "3               0.735688  5.464741e-01          0.490057      0.085034   \n",
       "4               0.735688  6.517986e-01          1.264666      4.682176   \n",
       "..                   ...           ...               ...           ...   \n",
       "294             1.359272  1.109765e+00          0.284552      1.447094   \n",
       "295             0.735688  6.802472e-02          0.187726      0.539054   \n",
       "296             0.735688  4.902082e+00          0.575031      0.312044   \n",
       "297             0.735688  1.263389e+00          0.005926      0.766064   \n",
       "298             0.735688  1.348231e+00          0.199578      0.141976   \n",
       "\n",
       "      smoking      time  \n",
       "0    0.687682  1.629502  \n",
       "1    0.687682  1.603691  \n",
       "2    1.454161  1.590785  \n",
       "3    0.687682  1.590785  \n",
       "4    0.687682  1.577879  \n",
       "..        ...       ...  \n",
       "294  1.454161  1.803451  \n",
       "295  0.687682  1.816357  \n",
       "296  0.687682  1.906697  \n",
       "297  1.454161  1.932509  \n",
       "298  1.454161  1.997038  \n",
       "\n",
       "[299 rows x 10 columns]"
      ]
     },
     "execution_count": 7,
     "metadata": {},
     "output_type": "execute_result"
    }
   ],
   "source": [
    "#z_score\n",
    "#type(new_x)\n",
    "\n",
    "# configuracao melhor\n",
    "#x_train, x_test, y_train, y_test = train_test_split(new_x, new_y, test_size = 0.2, random_state = 2)"
   ]
  },
  {
   "cell_type": "markdown",
   "id": "9f37c490",
   "metadata": {},
   "source": [
    "### Utilização da biblioteca SMOTENC para equilibrar a quantidade de dados para determinadas classes"
   ]
  },
  {
   "cell_type": "code",
   "execution_count": 8,
   "id": "6fbb1653",
   "metadata": {},
   "outputs": [],
   "source": [
    "# melhor\n",
    "#random_forest = RandomForestClassifier(max_depth=10, random_state=5, criterion='gini')\n",
    "\n",
    "new_x, new_y = SMOTENC(categorical_features=[1,4,8]).fit_resample(x, y)\n",
    "\n",
    "#new_x, new_y = x, y\n",
    "\n",
    "#x_train, x_test, y_train, y_test = train_test_split(new_x, new_y, test_size = 0.3, random_state = 1)\n",
    "#X_train, X_val, y_train, y_val = train_test_split( X_train, y_train, test_size=0.25, random_state=1)\n",
    "\n",
    "#X_train, y_train, X_valid, y_valid, X_test, y_test = train_valid_test_split(new_x,new_y, \n",
    "                                                                            #method='sorted', sort_by_col='saledate',\n",
    "                                                                           # train_size=0.8, valid_size=0.1, test_size=0.1)\n",
    "\n",
    "\n",
    "#x_train, x_test, y_train, y_test = train_test_split(new_x, new_y, test_size=0.15, random_state=1)\n",
    "#x_train, x_val, y_train, y_val = train_test_split(x_train, y_train, test_size=0.18, random_state=1) \n",
    "#70% 15% 15%\n",
    "\n",
    "#x_train, x_test, y_train, y_test = train_test_split(new_x, new_y, test_size = 0.3, random_state = 1)\n",
    "#70% 30%\n",
    "\n",
    "#print(x_train.shape)\n",
    "#print(y_train.shape)\n",
    "#print(x_test.shape)"
   ]
  },
  {
   "cell_type": "markdown",
   "id": "544d68ac",
   "metadata": {},
   "source": [
    "### Divisão dos dados de treino e dados de teste\n",
    "Dados divididos entre 70% para treinamento e 30% para teste"
   ]
  },
  {
   "cell_type": "code",
   "execution_count": 28,
   "id": "ad0b63f9",
   "metadata": {},
   "outputs": [],
   "source": [
    "x_train, x_test, y_train, y_test = train_test_split(new_x, new_y, test_size = 0.3, random_state = 1)"
   ]
  },
  {
   "cell_type": "markdown",
   "id": "1125e4f8",
   "metadata": {},
   "source": [
    "### Definição do modelo do classificador Random Forest"
   ]
  },
  {
   "cell_type": "code",
   "execution_count": 51,
   "id": "7beccf4e",
   "metadata": {},
   "outputs": [],
   "source": [
    "random_forest = RandomForestClassifier(max_depth=8, random_state=1, criterion='gini')#, max_leaf_nodes=25, max_terminal_nodes=2)"
   ]
  },
  {
   "cell_type": "markdown",
   "id": "b4d0dd10",
   "metadata": {},
   "source": [
    "### Validando o modelo com a estratégia K-fold, usando k=10"
   ]
  },
  {
   "cell_type": "code",
   "execution_count": 52,
   "id": "d612e921",
   "metadata": {},
   "outputs": [
    {
     "name": "stdout",
     "output_type": "stream",
     "text": [
      "Acurácia de cada vold fold — [0.8571428571428571, 0.7407407407407407, 0.8518518518518519, 0.9629629629629629, 0.8518518518518519, 0.9259259259259259, 0.9259259259259259, 0.8148148148148148, 0.8888888888888888, 0.8148148148148148]\n",
      "Acurácia média para k=10 : 86.34920634920634%\n"
     ]
    }
   ],
   "source": [
    "k=10\n",
    "#kf = KFold(n_splits=k, random_state=5, shuffle=True)\n",
    "kf = KFold(n_splits=k, random_state=None, shuffle=False)\n",
    "X_kf = x_train.copy()\n",
    "y_kf = y_train.copy()\n",
    "acc_score = []\n",
    "for train_index, test_index in kf.split(X_kf):#80% 20%\n",
    "    Xkf_train, Xkf_test = X_kf.iloc[train_index,:], X_kf.iloc[test_index,:]\n",
    "    #print(len(test_index))\n",
    "    #print(y_kf)\n",
    "    y_kf_train = y_kf.iloc[train_index]\n",
    "    y_kf_test = y_kf.iloc[test_index]\n",
    "    random_forest.fit(Xkf_train, y_kf_train)\n",
    "    pred_values = random_forest.predict(Xkf_test)\n",
    "    acc = accuracy_score(pred_values , y_kf_test)\n",
    "    acc_score.append(acc)\n",
    "avg_acc_score = sum(acc_score)/k\n",
    "\n",
    "print('Acurácia de cada vold fold — {}'.format(acc_score))\n",
    "print(f'Acurácia média para k={k} : {avg_acc_score*100}%')"
   ]
  },
  {
   "cell_type": "markdown",
   "id": "886621a1",
   "metadata": {},
   "source": [
    "### Treinando o modelo"
   ]
  },
  {
   "cell_type": "code",
   "execution_count": 31,
   "id": "0508727e",
   "metadata": {},
   "outputs": [
    {
     "data": {
      "text/plain": [
       "RandomForestClassifier(max_depth=8, random_state=1)"
      ]
     },
     "execution_count": 31,
     "metadata": {},
     "output_type": "execute_result"
    }
   ],
   "source": [
    "x_train, x_test, y_train, y_test = train_test_split(new_x, new_y, test_size = 0.3, random_state = 1)\n",
    "random_forest = RandomForestClassifier(max_depth=8, random_state=1, criterion='gini')#, max_leaf_nodes=25, max_terminal_nodes=2)\n",
    "random_forest.fit(x_train, y_train)"
   ]
  },
  {
   "cell_type": "markdown",
   "id": "14917bda",
   "metadata": {},
   "source": [
    "### Testando o modelo"
   ]
  },
  {
   "cell_type": "code",
   "execution_count": 32,
   "id": "d764a924",
   "metadata": {},
   "outputs": [],
   "source": [
    "y_predicted = random_forest.predict(x_test)"
   ]
  },
  {
   "cell_type": "markdown",
   "id": "60fb1ed6",
   "metadata": {},
   "source": [
    "### Métricas de Avaliaçao"
   ]
  },
  {
   "cell_type": "code",
   "execution_count": 33,
   "id": "2bdbe2dc",
   "metadata": {},
   "outputs": [
    {
     "data": {
      "text/plain": [
       "<sklearn.metrics._plot.confusion_matrix.ConfusionMatrixDisplay at 0x217a808f760>"
      ]
     },
     "execution_count": 33,
     "metadata": {},
     "output_type": "execute_result"
    },
    {
     "data": {
      "image/png": "[encoded data removed]",
      "text/plain": [
       "<Figure size 432x288 with 2 Axes>"
      ]
     },
     "metadata": {
      "needs_background": "light"
     },
     "output_type": "display_data"
    }
   ],
   "source": [
    "# Matriz de Confusão\n",
    "cm = confusion_matrix(y_test, y_predicted, labels=random_forest.classes_)\n",
    "disp = ConfusionMatrixDisplay(confusion_matrix=cm,  display_labels=random_forest.classes_)\n",
    "disp.plot()"
   ]
  },
  {
   "cell_type": "code",
   "execution_count": 14,
   "id": "4ff281dd",
   "metadata": {},
   "outputs": [
    {
     "data": {
      "text/plain": [
       "59"
      ]
     },
     "execution_count": 14,
     "metadata": {},
     "output_type": "execute_result"
    }
   ],
   "source": [
    "len(y_test)-sum(y_test) # Number EVENT_DEATH = FALSE"
   ]
  },
  {
   "cell_type": "code",
   "execution_count": 34,
   "id": "3772369a",
   "metadata": {},
   "outputs": [
    {
     "name": "stdout",
     "output_type": "stream",
     "text": [
      "Accuracy 0.9401709401709402%: \n",
      "Recall: 0.9827586206896551\n",
      "Precision: 0.9047619047619048\n",
      "f1-score: 0.9421487603305785\n"
     ]
    }
   ],
   "source": [
    "Accuracy = accuracy_score(y_test, y_predicted)\n",
    "print(f\"Accuracy {Accuracy}%: \")\n",
    "#print(accuracy_score(y_train, random_forest.predict(x_train)))\n",
    "print(f'Recall: {recall_score(y_test, y_predicted)}')\n",
    "print(f'Precision: {precision_score(y_test, y_predicted)}')\n",
    "print(f'f1-score: {f1_score(y_test, y_predicted)}')"
   ]
  },
  {
   "cell_type": "markdown",
   "id": "5a1f2f6a",
   "metadata": {},
   "source": [
    "# Testando outros classificadores"
   ]
  },
  {
   "cell_type": "markdown",
   "id": "86582237",
   "metadata": {},
   "source": [
    "## MLP Classifier"
   ]
  },
  {
   "cell_type": "code",
   "execution_count": 35,
   "id": "c6e187d5",
   "metadata": {},
   "outputs": [
    {
     "name": "stdout",
     "output_type": "stream",
     "text": [
      "Accuracy :  0.8974358974358975\n",
      "Recall: 0.896551724137931\n",
      "Precision: 0.896551724137931\n",
      "f1-score: 0.896551724137931\n"
     ]
    },
    {
     "data": {
      "text/plain": [
       "<sklearn.metrics._plot.confusion_matrix.ConfusionMatrixDisplay at 0x217a78661f0>"
      ]
     },
     "execution_count": 35,
     "metadata": {},
     "output_type": "execute_result"
    },
    {
     "data": {
      "image/png": "[encoded data removed]",
      "text/plain": [
       "<Figure size 432x288 with 2 Axes>"
      ]
     },
     "metadata": {
      "needs_background": "light"
     },
     "output_type": "display_data"
    }
   ],
   "source": [
    "#Definindo o modelo\n",
    "clf = MLPClassifier(random_state=1, max_iter=3000, hidden_layer_sizes=(2000,10),\n",
    "                    activation='relu', solver='adam')\n",
    "\n",
    "#Treinando o modelo\n",
    "clf.fit(x_train, y_train)\n",
    "\n",
    "#Testando o modelo\n",
    "y_predicted_mlp = clf.predict(x_test)\n",
    "accuracy_mlp = accuracy_score(y_test, y_predicted_mlp)\n",
    "print(\"Accuracy : \",accuracy_mlp)\n",
    "#print(f'Acuracia: {clf.score(x_test, y_test)}')\n",
    "print(f'Recall: {recall_score(y_test, y_predicted_mlp)}')\n",
    "print(f'Precision: {precision_score(y_test, y_predicted_mlp)}')\n",
    "print(f'f1-score: {f1_score(y_test, y_predicted_mlp)}')\n",
    "\n",
    "cm = confusion_matrix(y_test, y_predicted_mlp, labels=clf.classes_)\n",
    "disp = ConfusionMatrixDisplay(confusion_matrix=cm,  display_labels=clf.classes_)\n",
    "disp.plot()"
   ]
  },
  {
   "cell_type": "markdown",
   "id": "9f7a9f1d",
   "metadata": {},
   "source": [
    "## KNN classifier"
   ]
  },
  {
   "cell_type": "code",
   "execution_count": 49,
   "id": "279b362e",
   "metadata": {},
   "outputs": [
    {
     "name": "stdout",
     "output_type": "stream",
     "text": [
      "Accuracy :  0.8290598290598291\n",
      "Recall: 0.7931034482758621\n",
      "Precision: 0.8518518518518519\n",
      "f1-score: 0.8214285714285715\n"
     ]
    },
    {
     "data": {
      "text/plain": [
       "<sklearn.metrics._plot.confusion_matrix.ConfusionMatrixDisplay at 0x217aac67c40>"
      ]
     },
     "execution_count": 49,
     "metadata": {},
     "output_type": "execute_result"
    },
    {
     "data": {
      "image/png": "[encoded data removed]",
      "text/plain": [
       "<Figure size 432x288 with 2 Axes>"
      ]
     },
     "metadata": {
      "needs_background": "light"
     },
     "output_type": "display_data"
    }
   ],
   "source": [
    "knn = KNeighborsClassifier(n_neighbors=4, algorithm='kd_tree',weights= 'distance')\n",
    "knn.fit(x_train.values,y_train)\n",
    "#Testes\n",
    "y_predicted_knn = knn.predict(x_test.values)\n",
    "\n",
    "accuracy_mlp = accuracy_score(y_test, y_predicted_knn)\n",
    "print(\"Accuracy : \",accuracy_mlp)\n",
    "print(f'Recall: {recall_score(y_test, y_predicted_knn)}')\n",
    "print(f'Precision: {precision_score(y_test, y_predicted_knn)}')\n",
    "print(f'f1-score: {f1_score(y_test, y_predicted_knn)}')\n",
    "\n",
    "cm = confusion_matrix(y_test, y_predicted_knn, labels=knn.classes_)\n",
    "disp = ConfusionMatrixDisplay(confusion_matrix=cm,  display_labels=knn.classes_)\n",
    "disp.plot()"
   ]
  },
  {
   "cell_type": "markdown",
   "id": "1b5d4ff1",
   "metadata": {},
   "source": [
    "## SVM Classifier"
   ]
  },
  {
   "cell_type": "code",
   "execution_count": 50,
   "id": "b0b77764",
   "metadata": {},
   "outputs": [
    {
     "name": "stdout",
     "output_type": "stream",
     "text": [
      "Accuracy :  0.8205128205128205\n",
      "Recall: 0.8103448275862069\n",
      "Precision: 0.8245614035087719\n",
      "f1-score: 0.8173913043478261\n"
     ]
    },
    {
     "data": {
      "text/plain": [
       "<sklearn.metrics._plot.confusion_matrix.ConfusionMatrixDisplay at 0x217aaba4fd0>"
      ]
     },
     "execution_count": 50,
     "metadata": {},
     "output_type": "execute_result"
    },
    {
     "data": {
      "image/png": "[encoded data removed]",
      "text/plain": [
       "<Figure size 432x288 with 2 Axes>"
      ]
     },
     "metadata": {
      "needs_background": "light"
     },
     "output_type": "display_data"
    }
   ],
   "source": [
    "svm_model = svm.SVC(random_state=1, gamma='scale', kernel='rbf')\n",
    "#treino\n",
    "svm_model.fit(x_train, y_train)\n",
    "y_predicted_svm = svm_model.predict(x_test)\n",
    "\n",
    "accuracy_svm = accuracy_score(y_test, y_predicted_svm)\n",
    "\n",
    "print(\"Accuracy : \", accuracy_svm)\n",
    "print(f'Recall: {recall_score(y_test, y_predicted_svm)}')\n",
    "print(f'Precision: {precision_score(y_test, y_predicted_svm)}')\n",
    "print(f'f1-score: {f1_score(y_test, y_predicted_svm)}')\n",
    "\n",
    "cm = confusion_matrix(y_test, y_predicted_svm, labels=knn.classes_)\n",
    "disp = ConfusionMatrixDisplay(confusion_matrix=cm,  display_labels=knn.classes_)\n",
    "disp.plot()"
   ]
  }
 ],
 "metadata": {
  "kernelspec": {
   "display_name": "Python 3 (ipykernel)",
   "language": "python",
   "name": "python3"
  },
  "language_info": {
   "codemirror_mode": {
    "name": "ipython",
    "version": 3
   },
   "file_extension": ".py",
   "mimetype": "text/x-python",
   "name": "python",
   "nbconvert_exporter": "python",
   "pygments_lexer": "ipython3",
   "version": "3.8.11"
  }
 },
 "nbformat": 4,
 "nbformat_minor": 5
}
